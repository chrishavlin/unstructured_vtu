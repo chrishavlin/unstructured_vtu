{
 "cells": [
  {
   "cell_type": "code",
   "execution_count": null,
   "metadata": {},
   "outputs": [],
   "source": [
    "import numpy as np\n",
    "import zlib\n",
    "import base64\n",
    "import xmltodict\n",
    "import yt"
   ]
  },
  {
   "cell_type": "code",
   "execution_count": null,
   "metadata": {},
   "outputs": [],
   "source": [
    "x = open(\"../datasets/aspect/solution-00100.0001.vtu\", \"rb\").readlines()"
   ]
  },
  {
   "cell_type": "code",
   "execution_count": null,
   "metadata": {},
   "outputs": [],
   "source": [
    "d = x[14]"
   ]
  },
  {
   "cell_type": "code",
   "execution_count": null,
   "metadata": {},
   "outputs": [],
   "source": [
    "split_location = d.find(b\"==\") + 2"
   ]
  },
  {
   "cell_type": "code",
   "execution_count": null,
   "metadata": {},
   "outputs": [],
   "source": [
    "split_location"
   ]
  },
  {
   "cell_type": "code",
   "execution_count": null,
   "metadata": {},
   "outputs": [],
   "source": [
    "first = d[:split_location]\n",
    "second = d[split_location:]"
   ]
  },
  {
   "cell_type": "code",
   "execution_count": null,
   "metadata": {},
   "outputs": [],
   "source": [
    "type(second)"
   ]
  },
  {
   "cell_type": "code",
   "execution_count": null,
   "metadata": {},
   "outputs": [],
   "source": [
    "a1 = np.frombuffer(base64.decodebytes(first), dtype=\"<f4\")\n",
    "a2 = np.frombuffer(zlib.decompress(base64.decodebytes(second)), dtype=\"<f4\")"
   ]
  },
  {
   "cell_type": "code",
   "execution_count": null,
   "metadata": {},
   "outputs": [],
   "source": [
    "print(len(a2))\n",
    "print(a2.shape)"
   ]
  },
  {
   "cell_type": "code",
   "execution_count": null,
   "metadata": {},
   "outputs": [],
   "source": [
    "print(a1)\n",
    "print(a2.min(), a2.max(), a2.size, a2.size // 3)"
   ]
  },
  {
   "cell_type": "code",
   "execution_count": null,
   "metadata": {},
   "outputs": [],
   "source": [
    "with open(\"../datasets/aspect/solution-00100.0001.vtu\") as data:\n",
    "    xml = xmltodict.parse(data.read())"
   ]
  },
  {
   "cell_type": "code",
   "execution_count": null,
   "metadata": {},
   "outputs": [],
   "source": [
    "piece_id = 1"
   ]
  },
  {
   "cell_type": "code",
   "execution_count": null,
   "metadata": {},
   "outputs": [],
   "source": [
    "xml['VTKFile']['UnstructuredGrid']['Piece'][piece_id]['PointData']['DataArray'][0]['@Name']\n",
    "# coordinates = points data array\n",
    "# cells data array = connectivity \n",
    "# for loop over xml to get array of conn, coords, offsets, types and a dict that maps field to vals"
   ]
  },
  {
   "cell_type": "code",
   "execution_count": null,
   "metadata": {},
   "outputs": [],
   "source": [
    "xml['VTKFile']['UnstructuredGrid']['Piece'][piece_id]['PointData'];"
   ]
  },
  {
   "cell_type": "code",
   "execution_count": null,
   "metadata": {},
   "outputs": [],
   "source": [
    "type(xml['VTKFile']['UnstructuredGrid']['Piece'][piece_id]['PointData']['DataArray'][0])"
   ]
  },
  {
   "cell_type": "code",
   "execution_count": null,
   "metadata": {},
   "outputs": [],
   "source": [
    "import zlib"
   ]
  },
  {
   "cell_type": "code",
   "execution_count": null,
   "metadata": {},
   "outputs": [],
   "source": [
    "def decode_binary(blob, use_zlib = True, dtype=\"<f4\"):\n",
    "    split_location = blob.find(b\"==\") + 2\n",
    "    first = base64.decodebytes(blob[:split_location])\n",
    "    second = base64.decodebytes(blob[split_location:])\n",
    "    if zlib:\n",
    "        second = zlib.decompress(second)\n",
    "    return np.frombuffer(first, dtype=\"<f4\"), np.frombuffer(second, dtype=dtype)"
   ]
  },
  {
   "cell_type": "code",
   "execution_count": null,
   "metadata": {},
   "outputs": [],
   "source": [
    "def get_data(piece_id):\n",
    "    data = {}\n",
    "    for data_array in xml['VTKFile']['UnstructuredGrid']['Piece'][piece_id]['PointData']['DataArray']:\n",
    "        # get names of arrays\n",
    "        names = data_array['@Name']\n",
    "        types = data_array['@type']\n",
    "        # get binary code (as string)\n",
    "        text = data_array['#text']\n",
    "        # re-encode string\n",
    "        etext = text.encode()\n",
    "        metadata, data_field = decode_binary(etext)\n",
    "        data[names] = data_field\n",
    "\n",
    "    vel = data.pop(\"velocity\")\n",
    "    vel = vel.reshape((vel.size // 3, 3))\n",
    "    data[\"velocity_x\"] = vel[:,0]\n",
    "    data[\"velocity_y\"] = vel[:,1]\n",
    "    data[\"velocity_z\"] = vel[:,2]\n",
    "\n",
    "    _, coords = decode_binary(xml['VTKFile']['UnstructuredGrid']['Piece'][piece_id][\"Points\"][\"DataArray\"][\"#text\"].encode())\n",
    "    _, conn = decode_binary(xml['VTKFile']['UnstructuredGrid']['Piece'][piece_id][\"Cells\"][\"DataArray\"][0][\"#text\"].encode(),\n",
    "                 dtype=\"u4\")\n",
    "    _, offsets = decode_binary(xml['VTKFile']['UnstructuredGrid']['Piece'][piece_id][\"Cells\"][\"DataArray\"][1][\"#text\"].encode(),\n",
    "                 dtype=\"u4\")\n",
    "    _, cell_types = decode_binary(xml['VTKFile']['UnstructuredGrid']['Piece'][piece_id][\"Cells\"][\"DataArray\"][2][\"#text\"].encode(),\n",
    "                 dtype=\"u1\")\n",
    "   \n",
    "    coords = coords.reshape((coords.size // 3, 3))\n",
    "\n",
    "    connectivity = conn.reshape((conn.size // 8, 8))\n",
    "    node_data = {(\"connect1\", _) : __[connectivity].astype(\"f8\") for _, __ in data.items()}\n",
    "\n",
    "    return coords, connectivity, node_data"
   ]
  },
  {
   "cell_type": "code",
   "execution_count": null,
   "metadata": {},
   "outputs": [],
   "source": [
    "len(xml['VTKFile']['UnstructuredGrid']['Piece'])"
   ]
  },
  {
   "cell_type": "code",
   "execution_count": null,
   "metadata": {},
   "outputs": [],
   "source": [
    "connectivity = []\n",
    "coords = []\n",
    "node_data = []\n",
    "for i in range(len(xml['VTKFile']['UnstructuredGrid']['Piece'])):\n",
    "    v1, v2, v3 = get_data(0)\n",
    "    coords.append(v1)\n",
    "    connectivity.append(v2)\n",
    "    node_data.append(v3)\n",
    "connectivity = np.concatenate(connectivity, axis=0)\n",
    "coords = np.concatenate(coords, axis=0)\n",
    "n = {}\n",
    "for key in node_data[0]:\n",
    "    n[key] = np.concatenate([_[key] for _ in node_data], axis=0)\n",
    "node_data = n\n",
    "\n",
    "ds = yt.load_unstructured_mesh(\n",
    "    connectivity.astype(\"i8\"),\n",
    "    coords.astype(\"f8\"),\n",
    "    node_data = node_data\n",
    ")"
   ]
  },
  {
   "cell_type": "code",
   "execution_count": null,
   "metadata": {},
   "outputs": [],
   "source": [
    "ds.r[:][\"viscosity\"]"
   ]
  },
  {
   "cell_type": "code",
   "execution_count": null,
   "metadata": {},
   "outputs": [],
   "source": [
    "yt.SlicePlot(ds, \"y\", (\"connect1\", \"plastic_strain\")).annotate_mesh_lines()"
   ]
  },
  {
   "cell_type": "code",
   "execution_count": null,
   "metadata": {},
   "outputs": [],
   "source": [
    "s = yt.create_scene(ds, field=(\"connect1\", \"plastic_strain\"), ord)"
   ]
  },
  {
   "cell_type": "code",
   "execution_count": null,
   "metadata": {},
   "outputs": [],
   "source": [
    "s.camera.set_position((ds.domain_center[0], ds.domain_center[1], ds.domain_left_edge[2]))\n",
    "s.set_camera(s.camera)"
   ]
  },
  {
   "cell_type": "code",
   "execution_count": null,
   "metadata": {},
   "outputs": [],
   "source": [
    "s.show()\n",
    "s.annotate_mesh_lines()\n",
    "s.show()"
   ]
  },
  {
   "cell_type": "code",
   "execution_count": null,
   "metadata": {},
   "outputs": [],
   "source": []
  }
 ],
 "metadata": {
  "kernelspec": {
   "display_name": "Python 3",
   "language": "python",
   "name": "python3"
  },
  "language_info": {
   "codemirror_mode": {
    "name": "ipython",
    "version": 3
   },
   "file_extension": ".py",
   "mimetype": "text/x-python",
   "name": "python",
   "nbconvert_exporter": "python",
   "pygments_lexer": "ipython3",
   "version": "3.7.3"
  }
 },
 "nbformat": 4,
 "nbformat_minor": 2
}
