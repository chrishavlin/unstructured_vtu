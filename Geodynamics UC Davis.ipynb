{
 "cells": [
  {
   "cell_type": "code",
   "execution_count": 1,
   "metadata": {
    "scrolled": true
   },
   "outputs": [
    {
     "name": "stdout",
     "output_type": "stream",
     "text": [
      "Requirement already satisfied: yt in /home/matthewturk/yt/yt (4.0.dev0)\n",
      "Requirement already satisfied: matplotlib>=1.5.3 in /home/matthewturk/conda-py3/lib/python3.7/site-packages (from yt) (3.1.0)\n",
      "Requirement already satisfied: setuptools>=19.6 in /home/matthewturk/conda-py3/lib/python3.7/site-packages (from yt) (41.0.1)\n",
      "Requirement already satisfied: sympy>=1.0 in /home/matthewturk/conda-py3/lib/python3.7/site-packages (from yt) (1.4)\n",
      "Requirement already satisfied: numpy>=1.10.4 in /home/matthewturk/conda-py3/lib/python3.7/site-packages (from yt) (1.16.4)\n",
      "Requirement already satisfied: IPython>=1.0 in /home/matthewturk/conda-py3/lib/python3.7/site-packages (from yt) (7.5.0)\n",
      "Requirement already satisfied: python-dateutil>=2.1 in /home/matthewturk/conda-py3/lib/python3.7/site-packages (from matplotlib>=1.5.3->yt) (2.8.0)\n",
      "Requirement already satisfied: pyparsing!=2.0.4,!=2.1.2,!=2.1.6,>=2.0.1 in /home/matthewturk/conda-py3/lib/python3.7/site-packages (from matplotlib>=1.5.3->yt) (2.4.0)\n",
      "Requirement already satisfied: kiwisolver>=1.0.1 in /home/matthewturk/conda-py3/lib/python3.7/site-packages (from matplotlib>=1.5.3->yt) (1.1.0)\n",
      "Requirement already satisfied: cycler>=0.10 in /home/matthewturk/conda-py3/lib/python3.7/site-packages (from matplotlib>=1.5.3->yt) (0.10.0)\n",
      "Requirement already satisfied: mpmath>=0.19 in /home/matthewturk/conda-py3/lib/python3.7/site-packages (from sympy>=1.0->yt) (1.1.0)\n",
      "Requirement already satisfied: prompt-toolkit<2.1.0,>=2.0.0 in /home/matthewturk/conda-py3/lib/python3.7/site-packages (from IPython>=1.0->yt) (2.0.9)\n",
      "Requirement already satisfied: pickleshare in /home/matthewturk/conda-py3/lib/python3.7/site-packages (from IPython>=1.0->yt) (0.7.5)\n",
      "Requirement already satisfied: pexpect; sys_platform != \"win32\" in /home/matthewturk/conda-py3/lib/python3.7/site-packages (from IPython>=1.0->yt) (4.7.0)\n",
      "Requirement already satisfied: traitlets>=4.2 in /home/matthewturk/conda-py3/lib/python3.7/site-packages (from IPython>=1.0->yt) (4.3.2)\n",
      "Requirement already satisfied: backcall in /home/matthewturk/conda-py3/lib/python3.7/site-packages (from IPython>=1.0->yt) (0.1.0)\n",
      "Requirement already satisfied: pygments in /home/matthewturk/conda-py3/lib/python3.7/site-packages (from IPython>=1.0->yt) (2.4.2)\n",
      "Requirement already satisfied: jedi>=0.10 in /home/matthewturk/conda-py3/lib/python3.7/site-packages (from IPython>=1.0->yt) (0.13.3)\n",
      "Requirement already satisfied: decorator in /home/matthewturk/conda-py3/lib/python3.7/site-packages (from IPython>=1.0->yt) (4.4.0)\n",
      "Requirement already satisfied: six>=1.5 in /home/matthewturk/conda-py3/lib/python3.7/site-packages (from python-dateutil>=2.1->matplotlib>=1.5.3->yt) (1.12.0)\n",
      "Requirement already satisfied: wcwidth in /home/matthewturk/conda-py3/lib/python3.7/site-packages (from prompt-toolkit<2.1.0,>=2.0.0->IPython>=1.0->yt) (0.1.7)\n",
      "Requirement already satisfied: ptyprocess>=0.5 in /home/matthewturk/conda-py3/lib/python3.7/site-packages (from pexpect; sys_platform != \"win32\"->IPython>=1.0->yt) (0.6.0)\n",
      "Requirement already satisfied: ipython_genutils in /home/matthewturk/conda-py3/lib/python3.7/site-packages (from traitlets>=4.2->IPython>=1.0->yt) (0.2.0)\n",
      "Requirement already satisfied: parso>=0.3.0 in /home/matthewturk/conda-py3/lib/python3.7/site-packages (from jedi>=0.10->IPython>=1.0->yt) (0.4.0)\n"
     ]
    }
   ],
   "source": [
    "!pip install yt"
   ]
  },
  {
   "cell_type": "code",
   "execution_count": 2,
   "metadata": {},
   "outputs": [
    {
     "name": "stdout",
     "output_type": "stream",
     "text": [
      "Requirement already satisfied: xmltodict in /home/matthewturk/conda-py3/lib/python3.7/site-packages (0.12.0)\n"
     ]
    }
   ],
   "source": [
    "!pip install xmltodict"
   ]
  },
  {
   "cell_type": "code",
   "execution_count": 3,
   "metadata": {},
   "outputs": [],
   "source": [
    "import numpy as np\n",
    "import zlib\n",
    "import base64\n",
    "import xmltodict\n",
    "import yt"
   ]
  },
  {
   "cell_type": "code",
   "execution_count": 4,
   "metadata": {},
   "outputs": [
    {
     "ename": "FileNotFoundError",
     "evalue": "[Errno 2] No such file or directory: '/Users/swalkow2/Documents/yt/Datasets/Geoscience/solution-00100.0000.vtu'",
     "output_type": "error",
     "traceback": [
      "\u001b[0;31m---------------------------------------------------------------------------\u001b[0m",
      "\u001b[0;31mFileNotFoundError\u001b[0m                         Traceback (most recent call last)",
      "\u001b[0;32m<ipython-input-4-500350cc4b81>\u001b[0m in \u001b[0;36m<module>\u001b[0;34m\u001b[0m\n\u001b[0;32m----> 1\u001b[0;31m \u001b[0mx\u001b[0m \u001b[0;34m=\u001b[0m \u001b[0mopen\u001b[0m\u001b[0;34m(\u001b[0m\u001b[0;34m\"/Users/swalkow2/Documents/yt/Datasets/Geoscience/solution-00100.0000.vtu\"\u001b[0m\u001b[0;34m,\u001b[0m \u001b[0;34m\"rb\"\u001b[0m\u001b[0;34m)\u001b[0m\u001b[0;34m.\u001b[0m\u001b[0mreadlines\u001b[0m\u001b[0;34m(\u001b[0m\u001b[0;34m)\u001b[0m\u001b[0;34m\u001b[0m\u001b[0;34m\u001b[0m\u001b[0m\n\u001b[0m",
      "\u001b[0;31mFileNotFoundError\u001b[0m: [Errno 2] No such file or directory: '/Users/swalkow2/Documents/yt/Datasets/Geoscience/solution-00100.0000.vtu'"
     ]
    }
   ],
   "source": [
    "x = open(\"/Users/swalkow2/Documents/yt/Datasets/Geoscience/solution-00100.0000.vtu\", \"rb\").readlines()"
   ]
  },
  {
   "cell_type": "code",
   "execution_count": null,
   "metadata": {},
   "outputs": [],
   "source": [
    "d = x[14]"
   ]
  },
  {
   "cell_type": "code",
   "execution_count": null,
   "metadata": {},
   "outputs": [],
   "source": [
    "split_location = d.find(b\"==\") + 2"
   ]
  },
  {
   "cell_type": "code",
   "execution_count": null,
   "metadata": {},
   "outputs": [],
   "source": [
    "split_location"
   ]
  },
  {
   "cell_type": "code",
   "execution_count": null,
   "metadata": {},
   "outputs": [],
   "source": [
    "first = d[:split_location]\n",
    "second = d[split_location:]"
   ]
  },
  {
   "cell_type": "code",
   "execution_count": null,
   "metadata": {},
   "outputs": [],
   "source": [
    "type(second)"
   ]
  },
  {
   "cell_type": "code",
   "execution_count": null,
   "metadata": {},
   "outputs": [],
   "source": [
    "a1 = np.frombuffer(base64.decodebytes(first), dtype=\"<f4\")\n",
    "a2 = np.frombuffer(zlib.decompress(base64.decodebytes(second)), dtype=\"<f4\")"
   ]
  },
  {
   "cell_type": "code",
   "execution_count": null,
   "metadata": {},
   "outputs": [],
   "source": [
    "print(len(a2))\n",
    "print(a2.shape)"
   ]
  },
  {
   "cell_type": "code",
   "execution_count": null,
   "metadata": {},
   "outputs": [],
   "source": [
    "print(a1)\n",
    "print(a2.min(), a2.max(), a2.size, a2.size // 3)"
   ]
  },
  {
   "cell_type": "code",
   "execution_count": null,
   "metadata": {},
   "outputs": [],
   "source": [
    "with open(\"/Users/swalkow2/Documents/yt/Datasets/Geoscience/solution-00100.0000.vtu\") as data:\n",
    "    xml = xmltodict.parse(data.read())"
   ]
  },
  {
   "cell_type": "code",
   "execution_count": null,
   "metadata": {},
   "outputs": [],
   "source": [
    "xml['VTKFile']['UnstructuredGrid']['Piece'][0]['PointData']['DataArray'][0]['@Name']\n",
    "# coordinates = points data array\n",
    "# cells data array = connectivity \n",
    "# for loop over xml to get array of conn, coords, offsets, types and a dict that maps field to vals"
   ]
  },
  {
   "cell_type": "code",
   "execution_count": null,
   "metadata": {},
   "outputs": [],
   "source": [
    "xml['VTKFile']['UnstructuredGrid']['Piece'][0]['PointData']"
   ]
  },
  {
   "cell_type": "code",
   "execution_count": null,
   "metadata": {},
   "outputs": [],
   "source": [
    "type(xml['VTKFile']['UnstructuredGrid']['Piece'][0]['PointData']['DataArray'][0])"
   ]
  },
  {
   "cell_type": "code",
   "execution_count": null,
   "metadata": {},
   "outputs": [],
   "source": [
    "data = {}\n",
    "for i in range(len(xml['VTKFile']['UnstructuredGrid']['Piece'][0]['PointData']['DataArray'])):\n",
    "    # get names of arrays\n",
    "    names = xml['VTKFile']['UnstructuredGrid']['Piece'][0]['PointData']['DataArray'][i]['@Name']\n",
    "    types = xml['VTKFile']['UnstructuredGrid']['Piece'][0]['PointData']['DataArray'][i]['@type']\n",
    "    print(names)\n",
    "    # get binary code (as string)\n",
    "    text = xml['VTKFile']['UnstructuredGrid']['Piece'][0]['PointData']['DataArray'][i]['#text']\n",
    "    # re-encode string\n",
    "    etext = text.encode()\n",
    "    coord = np.frombuffer(base64.decodebytes(etext), dtype=\"<f4\")\n",
    "    print(coord)\n",
    "    data[names] = [coord]"
   ]
  },
  {
   "cell_type": "code",
   "execution_count": null,
   "metadata": {},
   "outputs": [],
   "source": [
    "description = open(\"/Users/swalkow2/Documents/yt/Datasets/Geoscience/solution-00100.pvtu\", \"rb\").readlines()"
   ]
  },
  {
   "cell_type": "code",
   "execution_count": null,
   "metadata": {},
   "outputs": [],
   "source": [
    "description"
   ]
  },
  {
   "cell_type": "code",
   "execution_count": null,
   "metadata": {},
   "outputs": [],
   "source": [
    "yt.load_unstructured_mesh?\n",
    "# connectivity = offset \n",
    "# node data (field names)\n"
   ]
  },
  {
   "cell_type": "code",
   "execution_count": null,
   "metadata": {},
   "outputs": [],
   "source": [
    "# what meta data do I need\n",
    "# What do I need to do to the arrays? \n",
    "# how do I load arrays and metadata into yt?"
   ]
  },
  {
   "cell_type": "code",
   "execution_count": null,
   "metadata": {},
   "outputs": [],
   "source": []
  }
 ],
 "metadata": {
  "kernelspec": {
   "display_name": "Python 3",
   "language": "python",
   "name": "python3"
  },
  "language_info": {
   "codemirror_mode": {
    "name": "ipython",
    "version": 3
   },
   "file_extension": ".py",
   "mimetype": "text/x-python",
   "name": "python",
   "nbconvert_exporter": "python",
   "pygments_lexer": "ipython3",
   "version": "3.7.3"
  }
 },
 "nbformat": 4,
 "nbformat_minor": 2
}
